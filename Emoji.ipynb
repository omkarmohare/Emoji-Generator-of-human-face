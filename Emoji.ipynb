{
 "cells": [
  {
   "cell_type": "code",
   "execution_count": 20,
   "id": "7aa40e68-ca35-4915-ab4c-323375b72697",
   "metadata": {},
   "outputs": [],
   "source": [
    "import numpy as np\n",
    "import cv2\n",
    "import matplotlib.pyplot as plt\n",
    "from tensorflow.keras.models import Sequential\n",
    "from tensorflow.keras.layers import Dense, Dropout, Flatten\n",
    "from tensorflow.keras.layers import Conv2D\n",
    "from tensorflow.keras.layers import MaxPooling2D\n",
    "from tensorflow.keras.optimizers import Adam\n",
    "from tensorflow.keras.preprocessing.image import ImageDataGenerator"
   ]
  },
  {
   "cell_type": "code",
   "execution_count": 23,
   "id": "cff5fb49-dfbe-47ad-ad0d-713b5889c16d",
   "metadata": {},
   "outputs": [
    {
     "name": "stdout",
     "output_type": "stream",
     "text": [
      "Found 28709 images belonging to 7 classes.\n",
      "Found 7178 images belonging to 7 classes.\n"
     ]
    }
   ],
   "source": [
    "# Initialize the training and validation generators\n",
    "\n",
    "train_dir = r\"C:\\Users\\prash\\Downloads\\Python project\\PA\\archive (3)\\train\"\n",
    "test_dir = r\"C:\\Users\\prash\\Downloads\\Python project\\PA\\archive (3)\\test\"\n",
    "train_datagenerator = ImageDataGenerator(rescale=1./255)\n",
    "test_datagenerator = ImageDataGenerator(rescale=1./255)\n",
    "\n",
    "train_generator = train_datagenerator.flow_from_directory(\n",
    "        train_dir,\n",
    "        target_size=(48,48),\n",
    "        batch_size=64,\n",
    "        color_mode=\"grayscale\",\n",
    "        class_mode='categorical')\n",
    "\n",
    "test_generator = test_datagenerator.flow_from_directory(\n",
    "        test_dir,\n",
    "        target_size=(48,48),\n",
    "        batch_size=64,\n",
    "        color_mode=\"grayscale\",\n",
    "        class_mode='categorical')"
   ]
  },
  {
   "cell_type": "code",
   "execution_count": 24,
   "id": "41c427a0-ca8e-449d-ab35-51fb5e533fb4",
   "metadata": {},
   "outputs": [],
   "source": [
    "# Building the CNN architecture\n",
    "# with four conv2D layers, two dense layers and one flatten layer\n",
    "\n",
    "recognition_model = Sequential()\n",
    "\n",
    "recognition_model.add(Conv2D(32, kernel_size=(3, 3), activation='relu', input_shape=(48,48,1)))\n",
    "recognition_model.add(Conv2D(64, kernel_size=(3, 3), activation='relu'))\n",
    "recognition_model.add(MaxPooling2D(pool_size=(2, 2)))\n",
    "recognition_model.add(Dropout(0.25))\n",
    "\n",
    "recognition_model.add(Conv2D(128, kernel_size=(3, 3), activation='relu'))\n",
    "recognition_model.add(MaxPooling2D(pool_size=(2, 2)))\n",
    "recognition_model.add(Conv2D(128, kernel_size=(3, 3), activation='relu'))\n",
    "recognition_model.add(MaxPooling2D(pool_size=(2, 2)))\n",
    "recognition_model.add(Dropout(0.25))\n",
    "\n",
    "recognition_model.add(Flatten())\n",
    "recognition_model.add(Dense(1024, activation='relu'))\n",
    "recognition_model.add(Dropout(0.5))\n",
    "recognition_model.add(Dense(7, activation='softmax'))"
   ]
  },
  {
   "cell_type": "code",
   "execution_count": 25,
   "id": "dc54f640-510a-429b-976c-97b9cd3cf06d",
   "metadata": {},
   "outputs": [
    {
     "name": "stdout",
     "output_type": "stream",
     "text": [
      "Model: \"sequential_1\"\n",
      "_________________________________________________________________\n",
      " Layer (type)                Output Shape              Param #   \n",
      "=================================================================\n",
      " conv2d_4 (Conv2D)           (None, 46, 46, 32)        320       \n",
      "                                                                 \n",
      " conv2d_5 (Conv2D)           (None, 44, 44, 64)        18496     \n",
      "                                                                 \n",
      " max_pooling2d_3 (MaxPoolin  (None, 22, 22, 64)        0         \n",
      " g2D)                                                            \n",
      "                                                                 \n",
      " dropout_3 (Dropout)         (None, 22, 22, 64)        0         \n",
      "                                                                 \n",
      " conv2d_6 (Conv2D)           (None, 20, 20, 128)       73856     \n",
      "                                                                 \n",
      " max_pooling2d_4 (MaxPoolin  (None, 10, 10, 128)       0         \n",
      " g2D)                                                            \n",
      "                                                                 \n",
      " conv2d_7 (Conv2D)           (None, 8, 8, 128)         147584    \n",
      "                                                                 \n",
      " max_pooling2d_5 (MaxPoolin  (None, 4, 4, 128)         0         \n",
      " g2D)                                                            \n",
      "                                                                 \n",
      " dropout_4 (Dropout)         (None, 4, 4, 128)         0         \n",
      "                                                                 \n",
      " flatten_1 (Flatten)         (None, 2048)              0         \n",
      "                                                                 \n",
      " dense_2 (Dense)             (None, 1024)              2098176   \n",
      "                                                                 \n",
      " dropout_5 (Dropout)         (None, 1024)              0         \n",
      "                                                                 \n",
      " dense_3 (Dense)             (None, 7)                 7175      \n",
      "                                                                 \n",
      "=================================================================\n",
      "Total params: 2345607 (8.95 MB)\n",
      "Trainable params: 2345607 (8.95 MB)\n",
      "Non-trainable params: 0 (0.00 Byte)\n",
      "_________________________________________________________________\n"
     ]
    }
   ],
   "source": [
    "recognition_model.summary()"
   ]
  },
  {
   "cell_type": "code",
   "execution_count": 26,
   "id": "0c8eb125-b863-459b-9552-fe6ca8d27a59",
   "metadata": {},
   "outputs": [],
   "source": [
    "\n",
    "cv2.ocl.setUseOpenCL(False)"
   ]
  },
  {
   "cell_type": "code",
   "execution_count": 29,
   "id": "aca623c1-b892-4e10-b7fb-6e6fe2e7d448",
   "metadata": {},
   "outputs": [],
   "source": [
    "import tensorflow as tf\n",
    "from tensorflow.keras.optimizers import Adam\n",
    "from tensorflow.keras.optimizers.schedules import ExponentialDecay\n",
    "\n",
    "# Initial learning rate\n",
    "initial_learning_rate = 0.0001\n",
    "\n",
    "# Learning rate decay setup\n",
    "lr_schedule = ExponentialDecay(\n",
    "    initial_learning_rate,\n",
    "    decay_steps=100000,\n",
    "    decay_rate=0.96,\n",
    "    staircase=True)\n",
    "\n",
    "# Use the learning rate scheduler in the optimizer\n",
    "optimizer = Adam(learning_rate=lr_schedule)\n",
    "\n",
    "# Compile your model\n",
    "recognition_model.compile(loss='categorical_crossentropy',\n",
    "                          optimizer=optimizer,\n",
    "                          metrics=['accuracy'])\n"
   ]
  },
  {
   "cell_type": "code",
   "execution_count": 31,
   "id": "dee20669-c993-4bef-af99-5389acc6622a",
   "metadata": {},
   "outputs": [
    {
     "name": "stdout",
     "output_type": "stream",
     "text": [
      "448/448 [==============================] - 358s 798ms/step - loss: 1.7978 - accuracy: 0.2626 - val_loss: 1.7040 - val_accuracy: 0.3414\n"
     ]
    }
   ],
   "source": [
    "\n",
    "recognition_model_info = recognition_model.fit(\n",
    "        train_generator,\n",
    "        steps_per_epoch=28709 // 64,\n",
    "        epochs=60,\n",
    "        validation_data=test_generator,\n",
    "        validation_steps=7178 // 64)"
   ]
  },
  {
   "cell_type": "code",
   "execution_count": 32,
   "id": "440f9b56-ead4-4629-8f34-f0dee8654462",
   "metadata": {},
   "outputs": [],
   "source": [
    "# Saving the trained Model Weights\n",
    "\n",
    "recognition_model.save_weights('recognition_model.h5')"
   ]
  },
  {
   "cell_type": "code",
   "execution_count": 33,
   "id": "e1ff8726-33ff-4506-a25b-0bde4634d697",
   "metadata": {},
   "outputs": [
    {
     "data": {
      "image/png": "[encoded data removed]",
      "text/plain": [
       "<Figure size 640x480 with 1 Axes>"
      ]
     },
     "metadata": {},
     "output_type": "display_data"
    },
    {
     "data": {
      "image/png": "[encoded data removed]",
      "text/plain": [
       "<Figure size 640x480 with 1 Axes>"
      ]
     },
     "metadata": {},
     "output_type": "display_data"
    }
   ],
   "source": [
    "# Summarize history for accuracy\n",
    "\n",
    "plt.title('Model Accuracy')\n",
    "plt.plot(recognition_model_info.history['accuracy'])\n",
    "plt.plot(recognition_model_info.history['val_accuracy'])\n",
    "plt.ylabel('accuracy')\n",
    "plt.xlabel('epoch')\n",
    "plt.legend(['train', 'test'], loc='upper left')\n",
    "plt.show()\n",
    "\n",
    "# Summarize history for loss\n",
    "\n",
    "plt.title('Model Loss')\n",
    "plt.plot(recognition_model_info.history['loss'])\n",
    "plt.plot(recognition_model_info.history['val_loss'])\n",
    "plt.ylabel('loss')\n",
    "plt.xlabel('epoch')\n",
    "plt.legend(['train', 'test'], loc='upper left')\n",
    "plt.show()\n"
   ]
  },
  {
   "cell_type": "code",
   "execution_count": 34,
   "id": "bdce9d0c-f4d1-4e0c-a64e-8e21e5b566e0",
   "metadata": {},
   "outputs": [],
   "source": [
    "# Facial emotion Dictonary with values\n",
    "\n",
    "facial_dict = {0: \"Angry\", 1: \"Disgusted\", 2: \"Fearful\", 3: \"Happy\", 4: \"Neutral\", 5: \"Sad\", 6: \"Surprised\"}"
   ]
  },
  {
   "cell_type": "code",
   "execution_count": 38,
   "id": "66ff943a-f41e-4ea8-9604-7c05cef7f2de",
   "metadata": {},
   "outputs": [
    {
     "name": "stdout",
     "output_type": "stream",
     "text": [
      "Stream stopped.\n"
     ]
    }
   ],
   "source": [
    "import cv2\n",
    "import numpy as np\n",
    "from matplotlib import pyplot as plt\n",
    "from IPython.display import display, clear_output\n",
    "\n",
    "cap = cv2.VideoCapture(0)\n",
    "\n",
    "try:\n",
    "    while True:\n",
    "        # Read frame from the video capture\n",
    "        ret, frame = cap.read()\n",
    "        if not ret:\n",
    "            break\n",
    "\n",
    "        # Convert to grayscale for face detection\n",
    "        gray_frame = cv2.cvtColor(frame, cv2.COLOR_BGR2GRAY)\n",
    "        \n",
    "        # Load the cascade for face detection\n",
    "        face_cascade = cv2.CascadeClassifier(cv2.data.haarcascades + 'haarcascade_frontalface_default.xml')\n",
    "        \n",
    "        # Detect faces\n",
    "        faces = face_cascade.detectMultiScale(gray_frame, 1.3, 5)\n",
    "        \n",
    "        for (x, y, w, h) in faces:\n",
    "            cv2.rectangle(frame, (x, y), (x+w, y+h), (255, 0, 0), 2)\n",
    "            \n",
    "            # Face ROI\n",
    "            roi_gray = gray_frame[y:y+h, x:x+w]\n",
    "            roi_color = frame[y:y+h, x:x+w]\n",
    "            \n",
    "            # Here you can add your model's prediction and annotation\n",
    "            \n",
    "        # Convert BGR image to RGB\n",
    "        frame_rgb = cv2.cvtColor(frame, cv2.COLOR_BGR2RGB)\n",
    "        \n",
    "        # Display the frame\n",
    "        plt.figure(figsize=(10,8))\n",
    "        plt.imshow(frame_rgb)\n",
    "        plt.axis('off')  # Turn off axis\n",
    "        plt.show()\n",
    "        \n",
    "        # Clear the output after each display\n",
    "        clear_output(wait=True)\n",
    "\n",
    "except KeyboardInterrupt:  # Allows you to stop the loop with a keyboard interrupt\n",
    "    print(\"Stream stopped.\")\n",
    "finally:\n",
    "    cap.release()\n",
    "    # cv2.destroyAllWindows() # This line is not needed and should be removed or commented out.\n"
   ]
  },
  {
   "cell_type": "code",
   "execution_count": 39,
   "id": "81a507f6-5c08-473c-a517-ef9adcbcb777",
   "metadata": {},
   "outputs": [],
   "source": [
    "# Importing Required Libraries\n",
    "\n",
    "import tkinter as tk\n",
    "from tkinter import *\n",
    "from PIL import Image, ImageTk\n",
    "import numpy as np\n",
    "import cv2\n",
    "from tensorflow.keras.models import Sequential\n",
    "from tensorflow.keras.layers import Dense\n",
    "from tensorflow.keras.layers import Dropout\n",
    "from tensorflow.keras.layers import Flatten\n",
    "from tensorflow.keras.layers import Conv2D\n",
    "from tensorflow.keras.layers import MaxPooling2D"
   ]
  },
  {
   "cell_type": "code",
   "execution_count": 40,
   "id": "64548f76-a711-40cc-b5ef-694065bf528a",
   "metadata": {},
   "outputs": [],
   "source": [
    "# Build the convolution network architecture\n",
    "\n",
    "face_model = Sequential()\n",
    "face_model.add(Conv2D(32, kernel_size=(3, 3), activation='relu', input_shape=(48,48,1)))\n",
    "face_model.add(Conv2D(64, kernel_size=(3, 3), activation='relu'))\n",
    "face_model.add(MaxPooling2D(pool_size=(2, 2)))\n",
    "face_model.add(Dropout(0.25))\n",
    "face_model.add(Conv2D(128, kernel_size=(3, 3), activation='relu'))\n",
    "face_model.add(MaxPooling2D(pool_size=(2, 2)))\n",
    "face_model.add(Conv2D(128, kernel_size=(3, 3), activation='relu'))\n",
    "face_model.add(MaxPooling2D(pool_size=(2, 2)))\n",
    "face_model.add(Dropout(0.25))\n",
    "face_model.add(Flatten())\n",
    "face_model.add(Dense(1024, activation='relu'))\n",
    "face_model.add(Dropout(0.5))\n",
    "face_model.add(Dense(7, activation='softmax'))"
   ]
  },
  {
   "cell_type": "code",
   "execution_count": 41,
   "id": "ccff22ba-9626-49f4-b448-ab1f8dbd5ebe",
   "metadata": {},
   "outputs": [],
   "source": [
    "# Load the saved weights\n",
    "\n",
    "face_model.load_weights('recognition_model.h5')"
   ]
  },
  {
   "cell_type": "code",
   "execution_count": 42,
   "id": "8e18f55e-9429-4e6f-bbdf-ed6f5449c9b1",
   "metadata": {},
   "outputs": [],
   "source": [
    "# Disable OpenCL\n",
    "\n",
    "cv2.ocl.setUseOpenCL(False)"
   ]
  },
  {
   "cell_type": "code",
   "execution_count": 43,
   "id": "fea5ba50-432f-4bfd-b2cc-2e6385decf70",
   "metadata": {},
   "outputs": [],
   "source": [
    "# Create Datasets Dictionaries\n",
    "\n",
    "facial_dict = {0: \"   Angry   \", 1: \"Disgusted\", 2: \"  Fearful  \", 3: \"   Happy   \", 4: \"  Neutral  \", 5: \"    Sad    \", 6: \"Surprised\"}\n",
    "emojis_dict = {0:\"emojis/angry.png\", 1:\"emojis/disgusted.png\", 2:\"emojis/fearful.png\", 3:\"emojis/happy.png\", 4:\"emojis/neutral.png\", 5:\"emojis/sad.png\", 6:\"emojis/surprised.png\"}"
   ]
  },
  {
   "cell_type": "code",
   "execution_count": 44,
   "id": "21a2d68f-118f-4467-99a6-04431325d63a",
   "metadata": {},
   "outputs": [],
   "source": [
    "# Global variables for \n",
    "\n",
    "global last_frame1                         \n",
    "last_frame1 = np.zeros((480, 640, 3), dtype=np.uint8)\n",
    "global cap1\n",
    "show_text=[0]"
   ]
  },
  {
   "cell_type": "code",
   "execution_count": 45,
   "id": "6bb86d65-17ba-4f0f-94db-6f2ecf7b72ad",
   "metadata": {},
   "outputs": [],
   "source": [
    "# Function to get face captured and recognize emotion\n",
    "\n",
    "def Capture_Image():\n",
    "    global cap1\n",
    "    cap1 = cv2.VideoCapture(0)\n",
    "    if not cap1.isOpened():\n",
    "        print(\"Unable to open the camera !\")\n",
    "    flag1, frame1 = cap1.read()\n",
    "    frame1 = cv2.resize(frame1,(600,500))\n",
    "    # It will detect the face in the video and bound it with a rectangular box\n",
    "    bound_box = cv2.CascadeClassifier('haarcascades_cuda/haarcascade_frontalface_default.xml')\n",
    "    gray_frame = cv2.cvtColor(frame1, cv2.COLOR_BGR2GRAY)\n",
    "    n_faces = bound_box.detectMultiScale(gray_frame,scaleFactor=1.3, minNeighbors=5)\n",
    "\n",
    "    for (x, y, w, h) in n_faces:\n",
    "        cv2.rectangle(frame1, (x, y-50), (x+w, y+h+10), (255, 0, 0), 2)\n",
    "        roi_frame = gray_frame[y:y + h, x:x + w]\n",
    "        crop_img = np.expand_dims(np.expand_dims(cv2.resize(roi_frame, (48, 48)), -1), 0)\n",
    "        prediction = face_model.predict(crop_img)\n",
    "        maxindex = int(np.argmax(prediction))\n",
    "        cv2.putText(frame1, facial_dict[maxindex], (x+20, y-60), cv2.FONT_HERSHEY_SIMPLEX, 1, (255, 255, 255), 2, cv2.LINE_AA)\n",
    "        show_text[0]=maxindex\n",
    "\n",
    "    if flag1 is None:\n",
    "        print (\"Error!\")\n",
    "\n",
    "    elif flag1:\n",
    "        global last_frame1\n",
    "        last_frame1 = frame1.copy()\n",
    "        pic = cv2.cvtColor(last_frame1, cv2.COLOR_BGR2RGB) #to store the image   \n",
    "        img = Image.fromarray(pic)\n",
    "        imgtk = ImageTk.PhotoImage(image=img)\n",
    "        lmain.imgtk = imgtk\n",
    "        lmain.configure(image=imgtk)\n",
    "        lmain.after(10, Capture_Image)\n",
    "\n",
    "    if cv2.waitKey(1) & 0xFF == ord('q'):\n",
    "        exit()"
   ]
  },
  {
   "cell_type": "code",
   "execution_count": 46,
   "id": "8df220bf-fb23-4411-98af-fad371b7678e",
   "metadata": {},
   "outputs": [],
   "source": [
    "# Function for showing Emoji According to Facial Expression\n",
    "\n",
    "def Get_Emoji():\n",
    "    frame2=cv2.imread(emojis_dict[show_text[0]])\n",
    "    pic2=cv2.cvtColor(frame2,cv2.COLOR_BGR2RGB)\n",
    "    img2=Image.fromarray(frame2)\n",
    "    imgtk2=ImageTk.PhotoImage(image=img2)\n",
    "    lmain2.imgtk2=imgtk2\n",
    "    lmain3.configure(text=facial_dict[show_text[0]],font=('arial',45,'bold'))\n",
    "    lmain2.configure(image=imgtk2)\n",
    "    lmain2.after(10, Get_Emoji)"
   ]
  },
  {
   "cell_type": "code",
   "execution_count": 58,
   "id": "d9e241d6-9de1-478a-acbc-94a2e5de7858",
   "metadata": {},
   "outputs": [],
   "source": [
    "import tkinter as tk\n",
    "from tkinter import Label, Button\n",
    "from PIL import Image, ImageTk\n",
    "import cv2\n",
    "\n",
    "class EmojifyApp:\n",
    "    def __init__(self, root):\n",
    "        self.root = root\n",
    "        self.setup_ui()\n",
    "\n",
    "    def setup_ui(self):\n",
    "        self.root.title(\"Emojify\")\n",
    "        self.root.geometry(\"800x600\")\n",
    "        self.root['bg'] = 'black'\n",
    "\n",
    "        # Heading\n",
    "        self.heading = Label(self.root, text=\"Emojify\", pady=20, font=('arial', 45, 'bold'), bg='black', fg='#CDCDCD')\n",
    "        self.heading.pack()\n",
    "\n",
    "        # Image display label\n",
    "        self.image_label = Label(self.root, padx=50, bd=10)\n",
    "        self.image_label.pack(pady=20)\n",
    "\n",
    "        # Emoji display label\n",
    "        self.emoji_label = Label(self.root, bd=10, fg=\"#CDCDCD\", bg='black', font=('arial', 24, 'bold'), text=\"😊\")\n",
    "        self.emoji_label.pack(pady=20)\n",
    "\n",
    "        # Capture and Display Button\n",
    "        self.capture_button = Button(self.root, text=\"Capture & Emojify\", command=self.capture_and_display_image, font=('arial', 20, 'bold'), bg='grey', fg='white')\n",
    "        self.capture_button.pack(side=tk.BOTTOM, pady=20)\n",
    "\n",
    "        # Quit Button\n",
    "        self.quit_button = Button(self.root, text='Quit', command=self.root.destroy, font=('arial', 20, 'bold'), bg='red', fg='white')\n",
    "        self.quit_button.pack(side=tk.BOTTOM, pady=10)\n",
    "\n",
    "    def capture_and_display_image(self):\n",
    "        # Capture an image\n",
    "        cap = cv2.VideoCapture(0)\n",
    "        ret, frame = cap.read()\n",
    "        cap.release()\n",
    "\n",
    "        if ret:\n",
    "            cv_img = cv2.cvtColor(frame, cv2.COLOR_BGR2RGB)\n",
    "            img = Image.fromarray(cv_img)\n",
    "            imgTk = ImageTk.PhotoImage(image=img)\n",
    "\n",
    "            # Update the image_label with new PhotoImage\n",
    "            self.image_label.imgtk = imgTk\n",
    "            self.image_label.configure(image=imgTk)\n",
    "            \n",
    "            # For simplicity, using a static emoji update here\n",
    "            self.emoji_label.configure(text=\"😊\")\n",
    "\n",
    "if __name__ == '__main__':\n",
    "    root = tk.Tk()\n",
    "    app = EmojifyApp(root)\n",
    "    root.mainloop()\n"
   ]
  },
  {
   "cell_type": "code",
   "execution_count": 56,
   "id": "7fe80977-58c0-44e8-acd5-b1b3a5fbf7fe",
   "metadata": {},
   "outputs": [
    {
     "ename": "SyntaxError",
     "evalue": "invalid syntax (2044481089.py, line 1)",
     "output_type": "error",
     "traceback": [
      "\u001b[1;36m  Cell \u001b[1;32mIn[56], line 1\u001b[1;36m\u001b[0m\n\u001b[1;33m    python emojify_app.py\u001b[0m\n\u001b[1;37m           ^\u001b[0m\n\u001b[1;31mSyntaxError\u001b[0m\u001b[1;31m:\u001b[0m invalid syntax\n"
     ]
    }
   ],
   "source": []
  },
  {
   "cell_type": "code",
   "execution_count": null,
   "id": "ef171561-d3e2-4f9b-80bd-2d0f67163ae3",
   "metadata": {},
   "outputs": [],
   "source": []
  }
 ],
 "metadata": {
  "kernelspec": {
   "display_name": "Python 3 (ipykernel)",
   "language": "python",
   "name": "python3"
  },
  "language_info": {
   "codemirror_mode": {
    "name": "ipython",
    "version": 3
   },
   "file_extension": ".py",
   "mimetype": "text/x-python",
   "name": "python",
   "nbconvert_exporter": "python",
   "pygments_lexer": "ipython3",
   "version": "3.11.3"
  }
 },
 "nbformat": 4,
 "nbformat_minor": 5
}
